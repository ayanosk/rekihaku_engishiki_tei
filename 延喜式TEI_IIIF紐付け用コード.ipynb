{
  "nbformat": 4,
  "nbformat_minor": 0,
  "metadata": {
    "colab": {
      "provenance": [],
      "authorship_tag": "ABX9TyP/QVpk3ZON2RbbXmpefHcn",
      "include_colab_link": true
    },
    "kernelspec": {
      "name": "python3",
      "display_name": "Python 3"
    },
    "language_info": {
      "name": "python"
    }
  },
  "cells": [
    {
      "cell_type": "markdown",
      "metadata": {
        "id": "view-in-github",
        "colab_type": "text"
      },
      "source": [
        "<a href=\"https://colab.research.google.com/github/ayanosk/rekihaku_engishiki_tei/blob/main/%E5%BB%B6%E5%96%9C%E5%BC%8FTEI_IIIF%E7%B4%90%E4%BB%98%E3%81%91%E7%94%A8%E3%82%B3%E3%83%BC%E3%83%89.ipynb\" target=\"_parent\"><img src=\"https://colab.research.google.com/assets/colab-badge.svg\" alt=\"Open In Colab\"/></a>"
      ]
    },
    {
      "cell_type": "code",
      "execution_count": 5,
      "metadata": {
        "id": "rog_KEB7G8dO"
      },
      "outputs": [],
      "source": [
        "from bs4 import BeautifulSoup\n",
        "import json\n",
        "import requests\n",
        "import ssl\n",
        "ssl._create_default_https_context = ssl._create_unverified_context\n",
        "\n",
        "# 関数\n",
        "\n",
        "def createXml(manifest, id_format=\"{}\"):\n",
        "\n",
        "  baseText = r'''\n",
        "        <facsimile></facsimile>\n",
        "  '''\n",
        "\n",
        "  soup = BeautifulSoup(baseText, \"xml\")\n",
        "\n",
        "  facsimile = soup.find(\"facsimile\")\n",
        "  facsimile[\"source\"] = manifest\n",
        "\n",
        "  # manifestのロード\n",
        "\n",
        "  manifest_data = requests.get(manifest).json()\n",
        "  canvases = manifest_data[\"sequences\"][0][\"canvases\"]\n",
        "\n",
        "  for canvas in canvases:\n",
        "      prefix = canvas[\"images\"][0][\"resource\"][\"service\"][\"@id\"]\n",
        "      image = prefix + \"/full/full/0/default.jpg\"\n",
        "      canvasId = canvas[\"@id\"]\n",
        "\n",
        "      # canvasのIDの末尾をxml:idとして扱います。データや用途に応じて、適宜変更してください。\n",
        "      id = id_format.format(canvasId.split(\"/\")[-1])\n",
        "\n",
        "      surface_text = '''\n",
        "      <surface source=\"{}\" xml:id=\"{}\">\n",
        "      <graphic url=\"{}\"/>\n",
        "      </surface>\n",
        "      '''.format(canvasId, id, image)\n",
        "\n",
        "      surface = BeautifulSoup(surface_text, \"xml\")\n",
        "      facsimile.append(surface)\n",
        "\n",
        "  return soup\n",
        "\n",
        "def main(manifest, output_file, id_format=\"{}\"):\n",
        "  # 以下、実行\n",
        "  xml = createXml(manifest, id_format)\n",
        "\n",
        "  f = open(output_file, \"w\")\n",
        "  f.write(xml.prettify())\n",
        "  f.close()\n",
        "\n",
        "  # ファイルのダウンロード\n",
        "  from google.colab import files\n",
        "  files.download(output_file)"
      ]
    },
    {
      "cell_type": "code",
      "source": [
        "# 延喜式（国立歴史民俗博物館）の例\n",
        "manifest = \"https://khirin-a.rekihaku.ac.jp/iiif/rekihaku/H-743-74-41/manifest.json\"\n",
        "output_file = \"engishiki_41.xml\"\n",
        "main(manifest, output_file)"
      ],
      "metadata": {
        "colab": {
          "base_uri": "https://localhost:8080/",
          "height": 17
        },
        "id": "7Xx8c6i2HPto",
        "outputId": "5e15f749-30d4-4151-c78b-a2a0a63a30ed"
      },
      "execution_count": 6,
      "outputs": [
        {
          "output_type": "display_data",
          "data": {
            "text/plain": [
              "<IPython.core.display.Javascript object>"
            ],
            "application/javascript": [
              "\n",
              "    async function download(id, filename, size) {\n",
              "      if (!google.colab.kernel.accessAllowed) {\n",
              "        return;\n",
              "      }\n",
              "      const div = document.createElement('div');\n",
              "      const label = document.createElement('label');\n",
              "      label.textContent = `Downloading \"${filename}\": `;\n",
              "      div.appendChild(label);\n",
              "      const progress = document.createElement('progress');\n",
              "      progress.max = size;\n",
              "      div.appendChild(progress);\n",
              "      document.body.appendChild(div);\n",
              "\n",
              "      const buffers = [];\n",
              "      let downloaded = 0;\n",
              "\n",
              "      const channel = await google.colab.kernel.comms.open(id);\n",
              "      // Send a message to notify the kernel that we're ready.\n",
              "      channel.send({})\n",
              "\n",
              "      for await (const message of channel.messages) {\n",
              "        // Send a message to notify the kernel that we're ready.\n",
              "        channel.send({})\n",
              "        if (message.buffers) {\n",
              "          for (const buffer of message.buffers) {\n",
              "            buffers.push(buffer);\n",
              "            downloaded += buffer.byteLength;\n",
              "            progress.value = downloaded;\n",
              "          }\n",
              "        }\n",
              "      }\n",
              "      const blob = new Blob(buffers, {type: 'application/binary'});\n",
              "      const a = document.createElement('a');\n",
              "      a.href = window.URL.createObjectURL(blob);\n",
              "      a.download = filename;\n",
              "      div.appendChild(a);\n",
              "      a.click();\n",
              "      div.remove();\n",
              "    }\n",
              "  "
            ]
          },
          "metadata": {}
        },
        {
          "output_type": "display_data",
          "data": {
            "text/plain": [
              "<IPython.core.display.Javascript object>"
            ],
            "application/javascript": [
              "download(\"download_323e2a90-9a26-4e2c-bdea-865493eb0a8c\", \"engishiki_41.xml\", 5904)"
            ]
          },
          "metadata": {}
        }
      ]
    },
    {
      "cell_type": "code",
      "source": [
        "#graphic内のURLからfacs=\"{}\"を生成する\n",
        "xmlfile = open('/content/engishiki_41 (2).xml', \"r\", encoding='utf-8')\n",
        "soup = BeautifulSoup(xmlfile, \"xml\")\n",
        "\n",
        "graphics = soup.select(\"graphic\")\n",
        "urls = []\n",
        "for graphic in graphics:\n",
        "  facsurl = 'facs=\"{}\"'.format(graphic[\"url\"])\n",
        "  urls.append(facsurl)"
      ],
      "metadata": {
        "id": "GYEFLs43MO4B"
      },
      "execution_count": 11,
      "outputs": []
    },
    {
      "cell_type": "code",
      "source": [
        "urls"
      ],
      "metadata": {
        "colab": {
          "base_uri": "https://localhost:8080/"
        },
        "id": "L8r_UzVlPJIs",
        "outputId": "d6dc8dd6-6159-467c-f61c-47d0ca14ff5e"
      },
      "execution_count": 12,
      "outputs": [
        {
          "output_type": "execute_result",
          "data": {
            "text/plain": [
              "['facs=\"https://khirin-a.rekihaku.ac.jp/iiif/2/engishiki%2FH-743-74-41%2F00001.tif/full/full/0/default.jpg\"',\n",
              " 'facs=\"https://khirin-a.rekihaku.ac.jp/iiif/2/engishiki%2FH-743-74-41%2F00002.tif/full/full/0/default.jpg\"',\n",
              " 'facs=\"https://khirin-a.rekihaku.ac.jp/iiif/2/engishiki%2FH-743-74-41%2F00003.tif/full/full/0/default.jpg\"',\n",
              " 'facs=\"https://khirin-a.rekihaku.ac.jp/iiif/2/engishiki%2FH-743-74-41%2F00004.tif/full/full/0/default.jpg\"',\n",
              " 'facs=\"https://khirin-a.rekihaku.ac.jp/iiif/2/engishiki%2FH-743-74-41%2F00005.tif/full/full/0/default.jpg\"',\n",
              " 'facs=\"https://khirin-a.rekihaku.ac.jp/iiif/2/engishiki%2FH-743-74-41%2F00006.tif/full/full/0/default.jpg\"',\n",
              " 'facs=\"https://khirin-a.rekihaku.ac.jp/iiif/2/engishiki%2FH-743-74-41%2F00007.tif/full/full/0/default.jpg\"',\n",
              " 'facs=\"https://khirin-a.rekihaku.ac.jp/iiif/2/engishiki%2FH-743-74-41%2F00008.tif/full/full/0/default.jpg\"',\n",
              " 'facs=\"https://khirin-a.rekihaku.ac.jp/iiif/2/engishiki%2FH-743-74-41%2F00009.tif/full/full/0/default.jpg\"',\n",
              " 'facs=\"https://khirin-a.rekihaku.ac.jp/iiif/2/engishiki%2FH-743-74-41%2F00010.tif/full/full/0/default.jpg\"',\n",
              " 'facs=\"https://khirin-a.rekihaku.ac.jp/iiif/2/engishiki%2FH-743-74-41%2F00011.tif/full/full/0/default.jpg\"',\n",
              " 'facs=\"https://khirin-a.rekihaku.ac.jp/iiif/2/engishiki%2FH-743-74-41%2F00012.tif/full/full/0/default.jpg\"',\n",
              " 'facs=\"https://khirin-a.rekihaku.ac.jp/iiif/2/engishiki%2FH-743-74-41%2F00013.tif/full/full/0/default.jpg\"',\n",
              " 'facs=\"https://khirin-a.rekihaku.ac.jp/iiif/2/engishiki%2FH-743-74-41%2F00014.tif/full/full/0/default.jpg\"',\n",
              " 'facs=\"https://khirin-a.rekihaku.ac.jp/iiif/2/engishiki%2FH-743-74-41%2F00015.tif/full/full/0/default.jpg\"',\n",
              " 'facs=\"https://khirin-a.rekihaku.ac.jp/iiif/2/engishiki%2FH-743-74-41%2F00016.tif/full/full/0/default.jpg\"',\n",
              " 'facs=\"https://khirin-a.rekihaku.ac.jp/iiif/2/engishiki%2FH-743-74-41%2F00017.tif/full/full/0/default.jpg\"',\n",
              " 'facs=\"https://khirin-a.rekihaku.ac.jp/iiif/2/engishiki%2FH-743-74-41%2F00018.tif/full/full/0/default.jpg\"',\n",
              " 'facs=\"https://khirin-a.rekihaku.ac.jp/iiif/2/engishiki%2FH-743-74-41%2F00019.tif/full/full/0/default.jpg\"',\n",
              " 'facs=\"https://khirin-a.rekihaku.ac.jp/iiif/2/engishiki%2FH-743-74-41%2F00020.tif/full/full/0/default.jpg\"',\n",
              " 'facs=\"https://khirin-a.rekihaku.ac.jp/iiif/2/engishiki%2FH-743-74-41%2F00021.tif/full/full/0/default.jpg\"',\n",
              " 'facs=\"https://khirin-a.rekihaku.ac.jp/iiif/2/engishiki%2FH-743-74-41%2F00022.tif/full/full/0/default.jpg\"',\n",
              " 'facs=\"https://khirin-a.rekihaku.ac.jp/iiif/2/engishiki%2FH-743-74-41%2F00023.tif/full/full/0/default.jpg\"',\n",
              " 'facs=\"https://khirin-a.rekihaku.ac.jp/iiif/2/engishiki%2FH-743-74-41%2F00024.tif/full/full/0/default.jpg\"']"
            ]
          },
          "metadata": {},
          "execution_count": 12
        }
      ]
    },
    {
      "cell_type": "code",
      "source": [
        "type(soup)"
      ],
      "metadata": {
        "colab": {
          "base_uri": "https://localhost:8080/"
        },
        "id": "6rGBo1SKOT10",
        "outputId": "7ce8d7d7-7ac1-491b-f2dd-3148554b0b83"
      },
      "execution_count": 10,
      "outputs": [
        {
          "output_type": "execute_result",
          "data": {
            "text/plain": [
              "bs4.BeautifulSoup"
            ]
          },
          "metadata": {},
          "execution_count": 10
        }
      ]
    }
  ]
}