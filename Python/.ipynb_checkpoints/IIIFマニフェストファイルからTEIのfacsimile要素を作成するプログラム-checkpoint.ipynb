{
 "cells": [
  {
   "cell_type": "markdown",
   "metadata": {
    "id": "KlfjzDmINIBf"
   },
   "source": [
    "# IIIFマニフェストファイルからTEIのfacsimile要素を作成するプログラム"
   ]
  },
  {
   "cell_type": "markdown",
   "metadata": {
    "id": "lGBjEi23N2bP"
   },
   "source": [
    "## 関数のロード\n",
    "\n",
    "canvasのIDの末尾をxml:idとして扱います。データや用途に応じて、適宜変更してください。"
   ]
  },
  {
   "cell_type": "code",
   "execution_count": null,
   "metadata": {
    "id": "WaPxLjm6KG87"
   },
   "outputs": [],
   "source": [
    "from bs4 import BeautifulSoup\n",
    "import json\n",
    "import requests\n",
    "import ssl\n",
    "ssl._create_default_https_context = ssl._create_unverified_context\n",
    "\n",
    "# 関数\n",
    "\n",
    "def createXml(manifest, id_format=\"{}\"):\n",
    "\n",
    "  baseText = '''\n",
    "  <facsimile></facsimile>\n",
    "  '''\n",
    "\n",
    "  soup = BeautifulSoup(baseText, \"xml\")\n",
    "\n",
    "  facsimile = soup.find(\"facsimile\")\n",
    "  facsimile[\"source\"] = manifest\n",
    "\n",
    "  # manifestのロード\n",
    "\n",
    "  manifest_data = requests.get(manifest).json()\n",
    "  canvases = manifest_data[\"sequences\"][0][\"canvases\"]\n",
    "\n",
    "  for canvas in canvases:\n",
    "      prefix = canvas[\"images\"][0][\"resource\"][\"service\"][\"@id\"]\n",
    "      image = prefix + \"/full/full/0/default.jpg\"\n",
    "      canvasId = canvas[\"@id\"]\n",
    "\n",
    "      # canvasのIDの末尾をxml:idとして扱います。データや用途に応じて、適宜変更してください。\n",
    "      id = id_format.format(canvasId.split(\"/\")[-1])\n",
    "\n",
    "      surface_text = '''\n",
    "      <surface source=\"{}\" xml:id=\"{}\">\n",
    "      <graphic url=\"{}\"/>\n",
    "      </surface>\n",
    "      '''.format(canvasId, id, image)\n",
    "\n",
    "      surface = BeautifulSoup(surface_text, \"xml\")\n",
    "      facsimile.append(surface)\n",
    "\n",
    "  return soup\n",
    "\n",
    "def main(manifest, output_file, id_format=\"{}\"):\n",
    "  # 以下、実行\n",
    "  xml = createXml(manifest, id_format)\n",
    "\n",
    "  f = open(output_file, \"w\")\n",
    "  f.write(xml.prettify())\n",
    "  f.close()\n",
    "\n",
    "  # ファイルのダウンロード\n",
    "  from google.colab import files\n",
    "  files.download(output_file)"
   ]
  },
  {
   "cell_type": "markdown",
   "metadata": {
    "id": "GmlENg-GPOc2"
   },
   "source": [
    "## 実行\n",
    "\n",
    "マニフェストファイルのURLと出力ファイルのパスを指定してください。IIIF Image APIに対応していることを前提とします。\n",
    "\n",
    "また、xml:idの与え方のフォーマットをid_format引数で指定できます。"
   ]
  },
  {
   "cell_type": "code",
   "execution_count": null,
   "metadata": {
    "id": "kKfwIj-tPI-4"
   },
   "outputs": [],
   "source": [
    "# 延喜式（国立歴史民俗博物館）の例\n",
    "manifest = \"https://khirin-a.rekihaku.ac.jp/iiif/rekihaku/H-743-74-1/manifest.json\"\n",
    "output_file = \"engishiki.xml\"\n",
    "main(manifest, output_file)"
   ]
  },
  {
   "cell_type": "code",
   "execution_count": null,
   "metadata": {
    "id": "XVptq4XcyPq1"
   },
   "outputs": [],
   "source": [
    "# 源氏物語（国立国会図書館）の例\n",
    "manifest = \"https://www.dl.ndl.go.jp/api/iiif/2585098/manifest.json\"\n",
    "output_file = \"genji.xml\"\n",
    "main(manifest, output_file, id_format=\"page{}\")"
   ]
  }
 ],
 "metadata": {
  "colab": {
   "collapsed_sections": [],
   "name": "IIIFマニフェストファイルからTEIのfacsimile要素を作成するプログラム.ipynb",
   "private_outputs": true,
   "provenance": []
  },
  "kernelspec": {
   "display_name": "Python 3",
   "language": "python",
   "name": "python3"
  },
  "language_info": {
   "codemirror_mode": {
    "name": "ipython",
    "version": 3
   },
   "file_extension": ".py",
   "mimetype": "text/x-python",
   "name": "python",
   "nbconvert_exporter": "python",
   "pygments_lexer": "ipython3",
   "version": "3.7.4"
  }
 },
 "nbformat": 4,
 "nbformat_minor": 1
}
